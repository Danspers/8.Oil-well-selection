{
 "cells": [
  {
   "cell_type": "markdown",
   "metadata": {},
   "source": [
    "# Выбор локации для скважины"
   ]
  },
  {
   "cell_type": "markdown",
   "metadata": {},
   "source": [
    "Допустим, вы работаете в добывающей компании «ГлавРосГосНефть». Нужно решить, где бурить новую скважину.\n",
    "\n",
    "Вам предоставлены пробы нефти в трёх регионах: в каждом 10 000 месторождений, где измерили качество нефти и объём её запасов. Постройте модель машинного обучения, которая поможет **определить регион**, где добыча принесёт наибольшую прибыль. Проанализируйте **возможную прибыль и риски** техникой *Bootstrap.*"
   ]
  },
  {
   "cell_type": "markdown",
   "metadata": {},
   "source": [
    "**Шаги для выбора локации:**\n",
    "- В избранном регионе ищут месторождения, для каждого определяют значения признаков;\n",
    "- Строят модель и оценивают объём запасов;\n",
    "- Выбирают месторождения с самым высокими оценками значений. Количество месторождений зависит от бюджета компании и стоимости разработки одной скважины;\n",
    "- Прибыль равна суммарной прибыли отобранных месторождений."
   ]
  },
  {
   "cell_type": "markdown",
   "metadata": {},
   "source": [
    "**Условия задачи:**\n",
    "- Для обучения модели подходит только **линейная регрессия** (остальные — недостаточно предсказуемые).\n",
    "- При разведке региона исследуют 500 точек, из которых с помощью машинного обучения выбирают 200 лучших для разработки.\n",
    "- Бюджет на **разработку скважин** в регионе — 10 млрд рублей.\n",
    "- При нынешних ценах **доход с каждой единицы продукта** составляет 450 тыс. рублей, поскольку объём указан в тысячах баррелей.\n",
    "- После оценки рисков нужно оставить лишь те регионы, в которых **вероятность убытков** меньше 2.5%. Среди них выбирают регион с наибольшей средней прибылью.\n",
    "- Данные синтетические: детали контрактов и характеристики месторождений не разглашаются."
   ]
  },
  {
   "cell_type": "markdown",
   "metadata": {},
   "source": [
    "**План работы:**\n",
    "1. [Загрузка и знакомство с исходными данными.](#section_1)\n",
    "2. [Обучение и проверка модели.](#section_2)\n",
    "3. [Подготовка к расчёту прибыли.](#section_3)\n",
    "4. [Функция для расчёта прибыли.](#section_4)\n",
    "5. [Расчёт прибыли и рисков.](#section_5)\n",
    "6. [Итоговый вывод.](#section_5)\n",
    "___"
   ]
  },
  {
   "cell_type": "markdown",
   "metadata": {},
   "source": [
    "<a id='section_1'></a>\n",
    "## 1. Загрузка и подготовка данных"
   ]
  },
  {
   "cell_type": "code",
   "execution_count": 1,
   "metadata": {},
   "outputs": [],
   "source": [
    "import numpy as np\n",
    "import pandas as pd\n",
    "from math import sqrt\n",
    "from matplotlib import pyplot as plt\n",
    "from scipy.stats import  percentileofscore\n",
    "\n",
    "from sklearn.metrics import mean_squared_error\n",
    "from sklearn.linear_model import LinearRegression\n",
    "from sklearn.model_selection import train_test_split"
   ]
  },
  {
   "cell_type": "markdown",
   "metadata": {},
   "source": [
    "### 1.1. Чтение и знакомство с данными"
   ]
  },
  {
   "cell_type": "code",
   "execution_count": 2,
   "metadata": {},
   "outputs": [
    {
     "data": {
      "text/html": [
       "<div>\n",
       "<style scoped>\n",
       "    .dataframe tbody tr th:only-of-type {\n",
       "        vertical-align: middle;\n",
       "    }\n",
       "\n",
       "    .dataframe tbody tr th {\n",
       "        vertical-align: top;\n",
       "    }\n",
       "\n",
       "    .dataframe thead th {\n",
       "        text-align: right;\n",
       "    }\n",
       "</style>\n",
       "<table border=\"1\" class=\"dataframe\">\n",
       "  <thead>\n",
       "    <tr style=\"text-align: right;\">\n",
       "      <th></th>\n",
       "      <th>id</th>\n",
       "      <th>f0</th>\n",
       "      <th>f1</th>\n",
       "      <th>f2</th>\n",
       "      <th>product</th>\n",
       "    </tr>\n",
       "  </thead>\n",
       "  <tbody>\n",
       "    <tr>\n",
       "      <th>0</th>\n",
       "      <td>txEyH</td>\n",
       "      <td>0.705745</td>\n",
       "      <td>-0.497823</td>\n",
       "      <td>1.221170</td>\n",
       "      <td>105.280062</td>\n",
       "    </tr>\n",
       "    <tr>\n",
       "      <th>1</th>\n",
       "      <td>2acmU</td>\n",
       "      <td>1.334711</td>\n",
       "      <td>-0.340164</td>\n",
       "      <td>4.365080</td>\n",
       "      <td>73.037750</td>\n",
       "    </tr>\n",
       "    <tr>\n",
       "      <th>2</th>\n",
       "      <td>409Wp</td>\n",
       "      <td>1.022732</td>\n",
       "      <td>0.151990</td>\n",
       "      <td>1.419926</td>\n",
       "      <td>85.265647</td>\n",
       "    </tr>\n",
       "    <tr>\n",
       "      <th>3</th>\n",
       "      <td>iJLyR</td>\n",
       "      <td>-0.032172</td>\n",
       "      <td>0.139033</td>\n",
       "      <td>2.978566</td>\n",
       "      <td>168.620776</td>\n",
       "    </tr>\n",
       "    <tr>\n",
       "      <th>4</th>\n",
       "      <td>Xdl7t</td>\n",
       "      <td>1.988431</td>\n",
       "      <td>0.155413</td>\n",
       "      <td>4.751769</td>\n",
       "      <td>154.036647</td>\n",
       "    </tr>\n",
       "  </tbody>\n",
       "</table>\n",
       "</div>"
      ],
      "text/plain": [
       "      id        f0        f1        f2     product\n",
       "0  txEyH  0.705745 -0.497823  1.221170  105.280062\n",
       "1  2acmU  1.334711 -0.340164  4.365080   73.037750\n",
       "2  409Wp  1.022732  0.151990  1.419926   85.265647\n",
       "3  iJLyR -0.032172  0.139033  2.978566  168.620776\n",
       "4  Xdl7t  1.988431  0.155413  4.751769  154.036647"
      ]
     },
     "metadata": {},
     "output_type": "display_data"
    },
    {
     "data": {
      "text/html": [
       "<div>\n",
       "<style scoped>\n",
       "    .dataframe tbody tr th:only-of-type {\n",
       "        vertical-align: middle;\n",
       "    }\n",
       "\n",
       "    .dataframe tbody tr th {\n",
       "        vertical-align: top;\n",
       "    }\n",
       "\n",
       "    .dataframe thead th {\n",
       "        text-align: right;\n",
       "    }\n",
       "</style>\n",
       "<table border=\"1\" class=\"dataframe\">\n",
       "  <thead>\n",
       "    <tr style=\"text-align: right;\">\n",
       "      <th></th>\n",
       "      <th>id</th>\n",
       "      <th>f0</th>\n",
       "      <th>f1</th>\n",
       "      <th>f2</th>\n",
       "      <th>product</th>\n",
       "    </tr>\n",
       "  </thead>\n",
       "  <tbody>\n",
       "    <tr>\n",
       "      <th>0</th>\n",
       "      <td>kBEdx</td>\n",
       "      <td>-15.001348</td>\n",
       "      <td>-8.276000</td>\n",
       "      <td>-0.005876</td>\n",
       "      <td>3.179103</td>\n",
       "    </tr>\n",
       "    <tr>\n",
       "      <th>1</th>\n",
       "      <td>62mP7</td>\n",
       "      <td>14.272088</td>\n",
       "      <td>-3.475083</td>\n",
       "      <td>0.999183</td>\n",
       "      <td>26.953261</td>\n",
       "    </tr>\n",
       "    <tr>\n",
       "      <th>2</th>\n",
       "      <td>vyE1P</td>\n",
       "      <td>6.263187</td>\n",
       "      <td>-5.948386</td>\n",
       "      <td>5.001160</td>\n",
       "      <td>134.766305</td>\n",
       "    </tr>\n",
       "    <tr>\n",
       "      <th>3</th>\n",
       "      <td>KcrkZ</td>\n",
       "      <td>-13.081196</td>\n",
       "      <td>-11.506057</td>\n",
       "      <td>4.999415</td>\n",
       "      <td>137.945408</td>\n",
       "    </tr>\n",
       "    <tr>\n",
       "      <th>4</th>\n",
       "      <td>AHL4O</td>\n",
       "      <td>12.702195</td>\n",
       "      <td>-8.147433</td>\n",
       "      <td>5.004363</td>\n",
       "      <td>134.766305</td>\n",
       "    </tr>\n",
       "  </tbody>\n",
       "</table>\n",
       "</div>"
      ],
      "text/plain": [
       "      id         f0         f1        f2     product\n",
       "0  kBEdx -15.001348  -8.276000 -0.005876    3.179103\n",
       "1  62mP7  14.272088  -3.475083  0.999183   26.953261\n",
       "2  vyE1P   6.263187  -5.948386  5.001160  134.766305\n",
       "3  KcrkZ -13.081196 -11.506057  4.999415  137.945408\n",
       "4  AHL4O  12.702195  -8.147433  5.004363  134.766305"
      ]
     },
     "metadata": {},
     "output_type": "display_data"
    },
    {
     "data": {
      "text/html": [
       "<div>\n",
       "<style scoped>\n",
       "    .dataframe tbody tr th:only-of-type {\n",
       "        vertical-align: middle;\n",
       "    }\n",
       "\n",
       "    .dataframe tbody tr th {\n",
       "        vertical-align: top;\n",
       "    }\n",
       "\n",
       "    .dataframe thead th {\n",
       "        text-align: right;\n",
       "    }\n",
       "</style>\n",
       "<table border=\"1\" class=\"dataframe\">\n",
       "  <thead>\n",
       "    <tr style=\"text-align: right;\">\n",
       "      <th></th>\n",
       "      <th>id</th>\n",
       "      <th>f0</th>\n",
       "      <th>f1</th>\n",
       "      <th>f2</th>\n",
       "      <th>product</th>\n",
       "    </tr>\n",
       "  </thead>\n",
       "  <tbody>\n",
       "    <tr>\n",
       "      <th>0</th>\n",
       "      <td>fwXo0</td>\n",
       "      <td>-1.146987</td>\n",
       "      <td>0.963328</td>\n",
       "      <td>-0.828965</td>\n",
       "      <td>27.758673</td>\n",
       "    </tr>\n",
       "    <tr>\n",
       "      <th>1</th>\n",
       "      <td>WJtFt</td>\n",
       "      <td>0.262778</td>\n",
       "      <td>0.269839</td>\n",
       "      <td>-2.530187</td>\n",
       "      <td>56.069697</td>\n",
       "    </tr>\n",
       "    <tr>\n",
       "      <th>2</th>\n",
       "      <td>ovLUW</td>\n",
       "      <td>0.194587</td>\n",
       "      <td>0.289035</td>\n",
       "      <td>-5.586433</td>\n",
       "      <td>62.871910</td>\n",
       "    </tr>\n",
       "    <tr>\n",
       "      <th>3</th>\n",
       "      <td>q6cA6</td>\n",
       "      <td>2.236060</td>\n",
       "      <td>-0.553760</td>\n",
       "      <td>0.930038</td>\n",
       "      <td>114.572842</td>\n",
       "    </tr>\n",
       "    <tr>\n",
       "      <th>4</th>\n",
       "      <td>WPMUX</td>\n",
       "      <td>-0.515993</td>\n",
       "      <td>1.716266</td>\n",
       "      <td>5.899011</td>\n",
       "      <td>149.600746</td>\n",
       "    </tr>\n",
       "  </tbody>\n",
       "</table>\n",
       "</div>"
      ],
      "text/plain": [
       "      id        f0        f1        f2     product\n",
       "0  fwXo0 -1.146987  0.963328 -0.828965   27.758673\n",
       "1  WJtFt  0.262778  0.269839 -2.530187   56.069697\n",
       "2  ovLUW  0.194587  0.289035 -5.586433   62.871910\n",
       "3  q6cA6  2.236060 -0.553760  0.930038  114.572842\n",
       "4  WPMUX -0.515993  1.716266  5.899011  149.600746"
      ]
     },
     "metadata": {},
     "output_type": "display_data"
    }
   ],
   "source": [
    "try:\n",
    "    try:\n",
    "        # домашняя версия\n",
    "        df1 = pd.read_csv('datasets\\geo_data_0.csv')\n",
    "        df2 = pd.read_csv('datasets\\geo_data_1.csv')\n",
    "        df3 = pd.read_csv('datasets\\geo_data_2.csv')\n",
    "    except:\n",
    "        # сетевая версия\n",
    "        df1 = pd.read_csv('/datasets/geo_data_0.csv')\n",
    "        df2 = pd.read_csv('/datasets/geo_data_1.csv')\n",
    "        df3 = pd.read_csv('/datasets/geo_data_2.csv')\n",
    "    \n",
    "    # вывод прочитанных данных\n",
    "    display(df1.head())\n",
    "    display(df2.head())\n",
    "    display(df3.head())\n",
    "    \n",
    "except:\n",
    "    print('Не удалось прочесть файл. Возможно, был указан неверный путь.')"
   ]
  },
  {
   "cell_type": "markdown",
   "metadata": {},
   "source": [
    "**Описание данных**\n",
    "\n",
    "Признаки: `f0`, `f1`, `f2` — _три характеристики качества нефти скважины_\n",
    "\n",
    "Целевой признак: `product` — _объём запасов в скважине (тыс. баррелей)_\n",
    "\n",
    "Вспомогательная колонка: `id` — _уникальный идентификатор скважины_\n",
    "\n",
    "Исходные данные: `geo_data_0`, `geo_data_1`, `geo_data_2` сохранены в: `df1` (Регион №1), `df2`(Регион №2), `df3` (Регион №3), соответственно."
   ]
  },
  {
   "cell_type": "markdown",
   "metadata": {},
   "source": [
    "### 1.2. Контроль пропусков, дубликатов и типов данных"
   ]
  },
  {
   "cell_type": "code",
   "execution_count": 3,
   "metadata": {},
   "outputs": [
    {
     "name": "stdout",
     "output_type": "stream",
     "text": [
      "\n",
      "------------< РЕГИОН №1 >------------\n",
      "<class 'pandas.core.frame.DataFrame'>\n",
      "RangeIndex: 100000 entries, 0 to 99999\n",
      "Data columns (total 5 columns):\n",
      " #   Column   Non-Null Count   Dtype  \n",
      "---  ------   --------------   -----  \n",
      " 0   id       100000 non-null  object \n",
      " 1   f0       100000 non-null  float64\n",
      " 2   f1       100000 non-null  float64\n",
      " 3   f2       100000 non-null  float64\n",
      " 4   product  100000 non-null  float64\n",
      "dtypes: float64(4), object(1)\n",
      "memory usage: 3.8+ MB\n",
      "None\n",
      "Явные дубликаты: 0\n",
      "Неявные дубликаты: 10\n",
      "\n",
      "------------< РЕГИОН №2 >------------\n",
      "<class 'pandas.core.frame.DataFrame'>\n",
      "RangeIndex: 100000 entries, 0 to 99999\n",
      "Data columns (total 5 columns):\n",
      " #   Column   Non-Null Count   Dtype  \n",
      "---  ------   --------------   -----  \n",
      " 0   id       100000 non-null  object \n",
      " 1   f0       100000 non-null  float64\n",
      " 2   f1       100000 non-null  float64\n",
      " 3   f2       100000 non-null  float64\n",
      " 4   product  100000 non-null  float64\n",
      "dtypes: float64(4), object(1)\n",
      "memory usage: 3.8+ MB\n",
      "None\n",
      "Явные дубликаты: 0\n",
      "Неявные дубликаты: 4\n",
      "\n",
      "------------< РЕГИОН №3 >------------\n",
      "<class 'pandas.core.frame.DataFrame'>\n",
      "RangeIndex: 100000 entries, 0 to 99999\n",
      "Data columns (total 5 columns):\n",
      " #   Column   Non-Null Count   Dtype  \n",
      "---  ------   --------------   -----  \n",
      " 0   id       100000 non-null  object \n",
      " 1   f0       100000 non-null  float64\n",
      " 2   f1       100000 non-null  float64\n",
      " 3   f2       100000 non-null  float64\n",
      " 4   product  100000 non-null  float64\n",
      "dtypes: float64(4), object(1)\n",
      "memory usage: 3.8+ MB\n",
      "None\n",
      "Явные дубликаты: 0\n",
      "Неявные дубликаты: 4\n"
     ]
    }
   ],
   "source": [
    "for df, reg in zip([df1, df2, df3], ['РЕГИОН №1','РЕГИОН №2','РЕГИОН №3']):\n",
    "    print(f'\\n------------< {reg} >------------')\n",
    "    print(df.info())\n",
    "    print('Явные дубликаты:', df.duplicated().sum())\n",
    "    print('Неявные дубликаты:', df['id'].duplicated().sum())    "
   ]
  },
  {
   "cell_type": "markdown",
   "metadata": {},
   "source": [
    "**Вывод:** Пропуски и явные дубликаты объектов - отсутствую. Встречается дублирование скважин (колонка `id`), но кол-во повторов невелико: 4-10 из 10 тыс. объектов. Возможно, это повторные измерения. Эти объекты можно оставить, т.к. если их присутствие и вносит ошибку, то небольшую, а модель будет их рассматривать как индивидуальные объекты.\n",
    "Необходимости в кодировании и маштабировании данных нет.\n",
    "___"
   ]
  },
  {
   "cell_type": "markdown",
   "metadata": {},
   "source": [
    "<a id='section_2'></a>\n",
    "## 2. Обучение и проверка модели"
   ]
  },
  {
   "cell_type": "markdown",
   "metadata": {},
   "source": [
    "- 2.1. Разбейте данные на обучающую и валидационную выборки в соотношении 75:25.\n",
    "- 2.2. Обучите модель и сделайте предсказания на валидационной выборке.\n",
    "- 2.3. Сохраните предсказания и правильные ответы на валидационной выборке.\n",
    "- 2.4. Напечатайте на экране средний запас предсказанного сырья и RMSE модели.\n",
    "- 2.5. Проанализируйте результаты."
   ]
  },
  {
   "cell_type": "code",
   "execution_count": 4,
   "metadata": {},
   "outputs": [
    {
     "name": "stdout",
     "output_type": "stream",
     "text": [
      "\n",
      "-----------------------------< РЕГИОН №1 >-----------------------------\n",
      "Средний запас предсказанного сырья для одной точки: 92.4 тыс. баррелей,\n",
      "                         с абсолютной погрешностью ±37.56 тыс. баррелей,\n",
      "                                 или относительной ±40.6%\n",
      "\n",
      "-----------------------------< РЕГИОН №2 >-----------------------------\n",
      "Средний запас предсказанного сырья для одной точки: 68.8 тыс. баррелей,\n",
      "                         с абсолютной погрешностью ±0.89 тыс. баррелей,\n",
      "                                 или относительной ±1.3%\n",
      "\n",
      "-----------------------------< РЕГИОН №3 >-----------------------------\n",
      "Средний запас предсказанного сырья для одной точки: 94.9 тыс. баррелей,\n",
      "                         с абсолютной погрешностью ±40.10 тыс. баррелей,\n",
      "                                 или относительной ±42.3%\n"
     ]
    }
   ],
   "source": [
    "targets = []\n",
    "predictions = []\n",
    "\n",
    "for df, reg in zip([df1, df2, df3], ['РЕГИОН №1','РЕГИОН №2','РЕГИОН №3']):\n",
    "    \n",
    "    # выделение признаков\n",
    "    main_features = df[['f0', 'f1', 'f2']]\n",
    "    main_target = df['product']\n",
    "    \n",
    "    # разделение данных на обучающую и валидационные выборки\n",
    "    features_train, features_valid, target_train, target_valid = train_test_split(main_features,\n",
    "                                                                                  main_target,\n",
    "                                                                                  train_size=0.75,\n",
    "                                                                                  random_state=1234)\n",
    "    \n",
    "    # обучение модели и предсказание объёмов сырья\n",
    "    model = LinearRegression()\n",
    "    model.fit(features_train, target_train)\n",
    "    prediction_valid = model.predict(features_valid)\n",
    "    rmse = sqrt(mean_squared_error(target_valid, prediction_valid))\n",
    "    \n",
    "    # сохранение целевых признаков и предсказаний на валидационной выборке.\n",
    "    targets.append(list(target_valid))\n",
    "    predictions.append(prediction_valid)\n",
    "    \n",
    "    # вывод результатов\n",
    "    print(f'\\n-----------------------------< {reg} >-----------------------------')\n",
    "    print('Средний запас предсказанного сырья для одной точки: {:.1f} тыс. баррелей,'.format(prediction_valid.mean()))\n",
    "    print('                         с абсолютной погрешностью ±{:.2f} тыс. баррелей,'.format(rmse))\n",
    "    print('                                 или относительной ±{:.1f}%'.format(rmse / prediction_valid.mean() * 100))\n",
    "\n",
    "# сохранение цел. признаков по регионам\n",
    "target_valid_1 = pd.Series(targets[0])\n",
    "target_valid_2 = pd.Series(targets[1])\n",
    "target_valid_3 = pd.Series(targets[2])\n",
    "\n",
    "# сохранение предсказаний по регионам\n",
    "prediction_valid_1 = pd.Series(predictions[0])\n",
    "prediction_valid_2 = pd.Series(predictions[1])\n",
    "prediction_valid_3 = pd.Series(predictions[2])"
   ]
  },
  {
   "cell_type": "markdown",
   "metadata": {},
   "source": [
    "**Вывод:** Из исходных данных, значения колонки `id` не будут приниматься в качестве признаков - т.к. они представляют из себя _уникальные имена_ скважин. Каждый датафрейм обрабатывается индивидуально, последовательно друг за другом. Исходная выборка разделена на **обучающую** (75%) и **валидационную** (25%), на которой спрогнозирован объём сырья и расчитано отклонение (_RMSE_). Результаты сохранены. Средний запас сырья и погрешность предсказаний выведены на экран.\n",
    "\n",
    "**Регион №1** и **№3** - _средние запасы_ скважины одинаково высокий (92 и 94 тыс.бар., соответственно), но предсказание имеет большую _погрешность_ (±40%), в отличии от **региона №2** в котором _средние запасы_ скважины значительно меньше, но их объём получилось предсказать весьма точно: ±1.3% (0.89 тыс.бар.)\n",
    "___"
   ]
  },
  {
   "cell_type": "markdown",
   "metadata": {},
   "source": [
    "<a id='section_3'></a>\n",
    "## 3. Подготовка к расчёту прибыли"
   ]
  },
  {
   "cell_type": "markdown",
   "metadata": {},
   "source": [
    "- 3.1. Все ключевые значения для расчётов сохраните в отдельных переменных.\n",
    "- 3.2. Рассчитайте достаточный объём сырья для безубыточной разработки новой скважины. Сравните полученный объём сырья со средним запасом в каждом регионе. \n",
    "- 3.3. Напишите выводы по этапу подготовки расчёта прибыли."
   ]
  },
  {
   "cell_type": "markdown",
   "metadata": {},
   "source": [
    "**Объявленные переменные, их описание и значения:**\n",
    "- `oil_price` (_cтоимость готовой продукции_)  =  450 000₽ / тыс.барралей.\n",
    "- `wells_price` (_себестоимость добычи_)  =  10 000 000 000₽ / 200 скважин.\n",
    "- `wells_count` (_количество скважин_)  = 200 шт.\n",
    "- `revenue` (_оборот_)  =  стоимость продукции * объём продукции\n",
    "- `gross_profit` (_выловая прибыль_)  =  оборот - себестоимости\n",
    "- `operating_cost` (_операционные расходы_): неизвестны, из-за чего не получится рассчитать _чистую прибыль_.\n",
    "\n",
    "*все денежные значения измеряются в _российских рублях_ (₽)"
   ]
  },
  {
   "cell_type": "code",
   "execution_count": 5,
   "metadata": {},
   "outputs": [
    {
     "name": "stdout",
     "output_type": "stream",
     "text": [
      "Достаточный объём сырья для безубыточной разработки новой скважины: 111.11 тыс.бар.\n"
     ]
    }
   ],
   "source": [
    "oil_price = 450000   # доход с тысячи баррелей продукта (значение в рублях)\n",
    "wells_price = 10**10 # стоимость разработки скважин для одного региона (значение в рублях)\n",
    "wells_count = 200    # кол-во скважин в пределах одного региона\n",
    "\n",
    "oil_min_count = wells_price / wells_count / oil_price\n",
    "print('Достаточный объём сырья для безубыточной разработки новой скважины: {:.2f} тыс.бар.'.format(oil_min_count))"
   ]
  },
  {
   "cell_type": "markdown",
   "metadata": {},
   "source": [
    "**Вывод:** Это начальный этап расчёта прибыли, на котором были **введены ключевые величины** для расчёта прибыли. Их значения и формула расчёта были описаны в сооветствующем разделе, выше. Так же высчитан **минимальный объём сырья**, который компенсирует себестоимоть добычи: **111.(1) тыс.бар.**\n",
    "___"
   ]
  },
  {
   "cell_type": "markdown",
   "metadata": {},
   "source": [
    "<a id='section_4'></a>\n",
    "## 4. Функция для расчёта прибыли"
   ]
  },
  {
   "cell_type": "markdown",
   "metadata": {},
   "source": [
    "- 4.1. Выберите скважины с максимальными значениями предсказаний. \n",
    "- 4.2. Просуммируйте целевое значение объёма сырья, соответствующее этим предсказаниям.\n",
    "- 4.3. Рассчитайте прибыль для полученного объёма сырья."
   ]
  },
  {
   "cell_type": "code",
   "execution_count": 6,
   "metadata": {},
   "outputs": [],
   "source": [
    "def profit_calculation(prediction, target, oil_price, wells_price, wells_count):\n",
    "    sorted_prediction = prediction.sort_values(ascending=False)[0:wells_count] # сохранение 200 лучших скважин по объёму сырья\n",
    "    selected_target = target[sorted_prediction.index] # отбор реальных значений объёма сырья для 200 лучших скважин\n",
    "    product_sum = sum(selected_target) # суммирования объёма предсказанного сырья\n",
    "    profit = (product_sum * oil_price - wells_price) / (10**6) # величина прибыли за вычетом затрат на разработку месторождений\n",
    "    return profit # возвращает значение в млн.₽"
   ]
  },
  {
   "cell_type": "markdown",
   "metadata": {},
   "source": [
    "___"
   ]
  },
  {
   "cell_type": "markdown",
   "metadata": {},
   "source": [
    "<a id='section_5'></a>\n",
    "## 5. Расчёт прибыли и рисков "
   ]
  },
  {
   "cell_type": "markdown",
   "metadata": {},
   "source": [
    "- 5.1. Примените технику Bootstrap с 1000 выборок, чтобы найти распределение прибыли.\n",
    "- 5.2. Найдите среднюю прибыль, 95%-й доверительный интервал и риск убытков.\n",
    "- 5.3. Напишите выводы: предложите регион для разработки скважин и обоснуйте выбор."
   ]
  },
  {
   "cell_type": "code",
   "execution_count": 7,
   "metadata": {
    "scrolled": false
   },
   "outputs": [
    {
     "name": "stdout",
     "output_type": "stream",
     "text": [
      "\n",
      "--------------------------< РЕГИОН №1 >--------------------------\n",
      "Средняя прибыль региона: 387.5 млн.₽\n",
      "95% вероятной прибыли находится в интервале: [-164.6; 872.4] млн.₽\n",
      "Риск убытков: 6.9%\n",
      "\n",
      "--------------------------< РЕГИОН №2 >--------------------------\n",
      "Средняя прибыль региона: 419.1 млн.₽\n",
      "95% вероятной прибыли находится в интервале: [26.0; 803.8] млн.₽\n",
      "Риск убытков: 1.8%\n",
      "\n",
      "--------------------------< РЕГИОН №3 >--------------------------\n",
      "Средняя прибыль региона: 354.7 млн.₽\n",
      "95% вероятной прибыли находится в интервале: [-172.9; 889.2] млн.₽\n",
      "Риск убытков: 10.6%\n"
     ]
    },
    {
     "data": {
      "image/png": "[encoded data removed]",
      "text/plain": [
       "<Figure size 576x360 with 1 Axes>"
      ]
     },
     "metadata": {
      "needs_background": "light"
     },
     "output_type": "display_data"
    }
   ],
   "source": [
    "profit_list = []\n",
    "state = np.random.RandomState(12345)\n",
    "\n",
    "for prediction, target, reg in zip([prediction_valid_1, prediction_valid_2, prediction_valid_3],\n",
    "                                   [target_valid_1, target_valid_2, target_valid_3],\n",
    "                                   ['РЕГИОН №1', 'РЕГИОН №2', 'РЕГИОН №3']):\n",
    "    \n",
    "    # примените техники Bootstrap для 1000 выборок\n",
    "    profit_list = []\n",
    "    for i in range(1000):\n",
    "        subsample = prediction.sample(n=500, replace=True, random_state=state) # создание случайной подвыборки на 500 объектов\n",
    "        gross_profit = profit_calculation(subsample, target, oil_price, wells_price, wells_count) # расчёт валовой прибыли\n",
    "        profit_list.append(gross_profit) # сохранение результата\n",
    "    \n",
    "    # вывод результатов \n",
    "    profits = pd.Series(profit_list).sort_values(ignore_index=True)\n",
    "    print(f'\\n--------------------------< {reg} >--------------------------')\n",
    "    print('Средняя прибыль региона: {:.1f} млн.₽'.format(profits.mean()))\n",
    "    print('95% вероятной прибыли находится в интервале: [{:.1f}; {:.1f}] млн.₽'.format(profits.quantile(0.025),\n",
    "                                                                                          profits.quantile(0.975)))\n",
    "    print('Риск убытков: {:.1f}%'.format(percentileofscore(profits, -0)))\n",
    "    \n",
    "    # изображение распределние прибыли\n",
    "    profits.plot(label=reg, legend=True,\n",
    "                 figsize=(8, 5), grid=True,\n",
    "                 ylabel='Валовая прибыль, млн.₽',\n",
    "                 title='График распределения прибыли')"
   ]
  },
  {
   "cell_type": "markdown",
   "metadata": {},
   "source": [
    "<a id='section_6'></a>\n",
    "**ИТОГ:** техникой _Bootstrap_ были перебраны 1000 комбинаций выборок по 500 случайных скважин, из числа которых отбирались 200 лучших (по объёму предсказанных запасов) и на их примере расчитывалась возможная прибыль. Функция расчёта прибыли описана в предыдущем разделе. Из тысячи полученны значений прибыли получилось распределение, которое изображено на графике. Для оценки возможных значений прибыли был взят 95% доверительный интервал.\n",
    "\n",
    "**Регион №1** и **№3** имеют наибольший диапазон значений прибыли, часть которого лежит в зоне убытков, риск которого: 6.9% и 10.6%, соответственно.\n",
    "**Регион №2** имеет наибольшую _среднюю прибыль_ **419 млн.₽**, и минимальную долю _риска_: **1.8%**, что соотвествует ключевому условию выбора региона, и определяет его, как единственный регион для добычи с наибольшей прибылью.\n",
    "___"
   ]
  },
  {
   "cell_type": "markdown",
   "metadata": {},
   "source": [
    "## Чек-лист готовности проекта"
   ]
  },
  {
   "cell_type": "markdown",
   "metadata": {},
   "source": [
    "Поставьте 'x' в выполненных пунктах. Далее нажмите Shift+Enter."
   ]
  },
  {
   "cell_type": "markdown",
   "metadata": {},
   "source": [
    "- [x]  Jupyter Notebook открыт\n",
    "- [x]  Весь код выполняется без ошибок\n",
    "- [x]  Ячейки с кодом расположены в порядке исполнения\n",
    "- [x]  Выполнен шаг 1: данные подготовлены\n",
    "- [x]  Выполнен шаг 2: модели обучены и проверены\n",
    "    - [x]  Данные корректно разбиты на обучающую и валидационную выборки\n",
    "    - [x]  Модели обучены, предсказания сделаны\n",
    "    - [x]  Предсказания и правильные ответы на валидационной выборке сохранены\n",
    "    - [x]  На экране напечатаны результаты\n",
    "    - [x]  Сделаны выводы\n",
    "- [x]  Выполнен шаг 3: проведена подготовка к расчёту прибыли\n",
    "    - [x]  Для всех ключевых значений созданы константы Python\n",
    "    - [x]  Посчитано минимальное среднее количество продукта в месторождениях региона, достаточное для разработки\n",
    "    - [x]  По предыдущему пункту сделаны выводы\n",
    "- [x]  Выполнен шаг 4: написана функция расчёта прибыли\n",
    "- [x]  Выполнен шаг 5: посчитаны риски и прибыль\n",
    "    - [x]  Проведена процедура *Bootstrap*\n",
    "    - [x]  Все параметры бутстрепа соответствуют условию\n",
    "    - [x]  Найдены все нужные величины\n",
    "    - [x]  Предложен регион для разработки месторождения\n",
    "    - [x]  Выбор региона обоснован"
   ]
  },
  {
   "cell_type": "markdown",
   "metadata": {},
   "source": []
  }
 ],
 "metadata": {
  "kernelspec": {
   "display_name": "Python 3",
   "language": "python",
   "name": "python3"
  },
  "language_info": {
   "codemirror_mode": {
    "name": "ipython",
    "version": 3
   },
   "file_extension": ".py",
   "mimetype": "text/x-python",
   "name": "python",
   "nbconvert_exporter": "python",
   "pygments_lexer": "ipython3",
   "version": "3.8.8"
  },
  "toc": {
   "base_numbering": 1,
   "nav_menu": {},
   "number_sections": true,
   "sideBar": true,
   "skip_h1_title": true,
   "title_cell": "Table of Contents",
   "title_sidebar": "Contents",
   "toc_cell": false,
   "toc_position": {},
   "toc_section_display": true,
   "toc_window_display": false
  }
 },
 "nbformat": 4,
 "nbformat_minor": 2
}
